{
 "metadata": {
  "language_info": {
   "codemirror_mode": {
    "name": "ipython",
    "version": 3
   },
   "file_extension": ".py",
   "mimetype": "text/x-python",
   "name": "python",
   "nbconvert_exporter": "python",
   "pygments_lexer": "ipython3",
   "version": "3.7.6-final"
  },
  "orig_nbformat": 2,
  "kernelspec": {
   "name": "python3",
   "display_name": "Python 3"
  }
 },
 "nbformat": 4,
 "nbformat_minor": 2,
 "cells": [
  {
   "cell_type": "code",
   "execution_count": 1,
   "metadata": {
    "tags": []
   },
   "outputs": [
    {
     "output_type": "stream",
     "name": "stdout",
     "text": "**** CUDA not available - continuing with CPU ****\n"
    },
    {
     "output_type": "error",
     "ename": "ModuleNotFoundError",
     "evalue": "No module named 'network_dictionary_analyzer'",
     "traceback": [
      "\u001b[1;31m---------------------------------------------------------------------------\u001b[0m",
      "\u001b[1;31mModuleNotFoundError\u001b[0m                       Traceback (most recent call last)",
      "\u001b[1;32m<ipython-input-1-2b15e1bbd38e>\u001b[0m in \u001b[0;36m<module>\u001b[1;34m\u001b[0m\n\u001b[0;32m      5\u001b[0m \u001b[1;33m\u001b[0m\u001b[0m\n\u001b[0;32m      6\u001b[0m \u001b[1;32mfrom\u001b[0m \u001b[0mmodules\u001b[0m\u001b[1;33m.\u001b[0m\u001b[0mnetwork_dictionary_builder\u001b[0m \u001b[1;32mimport\u001b[0m \u001b[0mNetDictionary\u001b[0m\u001b[1;33m\u001b[0m\u001b[1;33m\u001b[0m\u001b[0m\n\u001b[1;32m----> 7\u001b[1;33m \u001b[1;32mfrom\u001b[0m \u001b[0mnetwork_dictionary_analyzer\u001b[0m \u001b[1;32mimport\u001b[0m \u001b[0mNetDictionaryAnalyzer\u001b[0m\u001b[1;33m\u001b[0m\u001b[1;33m\u001b[0m\u001b[0m\n\u001b[0m\u001b[0;32m      8\u001b[0m \u001b[1;32mfrom\u001b[0m \u001b[0mutilities\u001b[0m \u001b[1;32mimport\u001b[0m \u001b[1;33m*\u001b[0m\u001b[1;33m\u001b[0m\u001b[1;33m\u001b[0m\u001b[0m\n\u001b[0;32m      9\u001b[0m \u001b[1;31m#use CUDA if available\u001b[0m\u001b[1;33m\u001b[0m\u001b[1;33m\u001b[0m\u001b[1;33m\u001b[0m\u001b[0m\n",
      "\u001b[1;31mModuleNotFoundError\u001b[0m: No module named 'network_dictionary_analyzer'"
     ]
    }
   ],
   "source": [
    "\"\"\"\n",
    "build CNNs from COVID-19 patient data\n",
    "\"\"\"\n",
    "from __future__ import division, print_function\n",
    "\n",
    "from modules.network_dictionary_builder import NetDictionary\n",
    "from modules.network_dictionary_analyzer import NetDictionaryAnalyzer\n",
    "from modules.utilities import *\n",
    "#use CUDA if available\n",
    "\n",
    "#global constants\n",
    "NET_PATH = './networks.tar'\n",
    "DATA_PATH = './datasets.tar'\n",
    "IMAGE_DEPTH = 4\n",
    "LABELS = ('Hospitalized', 'Intubated', 'Deceased', 'Pneumonia')\n",
    "COLUMNS = ('Male', 'Pregnant', 'Diabetes', 'Asthma', 'Immunocompromised',\n",
    "           'Hypertension', 'Other Disease', 'Cardiovascular Disease', 'Obesity', 'Kidney Disease',\n",
    "           'Tobacco Use', 'COPD')\n",
    "itc = ImageTensorCreator(IMAGE_DEPTH, COLUMNS)\n",
    "LOSS_RECORDING_RATE = 1\n",
    "\n",
    "#main functions\n",
    "test_tensor = itc.create_fake_data(40,[\"Diabetes\"])\n",
    "network_dictionary = NetDictionary(3, test_tensor, len(LABELS), NET_PATH, force_rebuild=False, force_training=True)\n",
    "\n",
    "ccd = CovidCnnDataset(DATA_PATH, itc, pyodbc_conn_string='DSN=covid;UID=seh;PWD=Welcome2020!;',\n",
    "                                      query=\"{CALL getpydatav2}\",\n",
    "                                      #force_rebuild=True,\n",
    "                                      approx_dataset_size=54000,\n",
    "                                      validation_ratio=0.4)\n",
    "\n",
    "network_dictionary.train_validate_networks(ccd.train_data, ccd.validation_images,\n",
    "                                           ccd.validation_labels, LOSS_RECORDING_RATE)\n",
    "\n",
    "network_dictionary.export_networks()\n",
    "\n",
    "network_analysis = NetDictionaryAnalyzer(network_dictionary)\n",
    "network_analysis.plot_losses()"
   ]
  },
  {
   "cell_type": "code",
   "execution_count": null,
   "metadata": {},
   "outputs": [],
   "source": []
  }
 ]
}